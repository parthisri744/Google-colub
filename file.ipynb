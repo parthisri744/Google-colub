{
 "cells": [
  {
   "cell_type": "code",
   "execution_count": 63,
   "metadata": {},
   "outputs": [
    {
     "name": "stdout",
     "output_type": "stream",
     "text": [
      "Enter Your Choise\n"
     ]
    },
    {
     "name": "stdin",
     "output_type": "stream",
     "text": [
      "1 for creation : \n",
      "2 for delete  \n",
      "3 for rename\n",
      " 5\n"
     ]
    },
    {
     "name": "stdout",
     "output_type": "stream",
     "text": [
      "Enter valid option\n"
     ]
    }
   ],
   "source": [
    "import os \n",
    "try:\n",
    "    def create_file():\n",
    "        filename=input(\"Enter File Name :\")\n",
    "        ext=input(\"Enter file Extension :\")\n",
    "        name=filename+\".\"+ext\n",
    "        file=open(name,'x')\n",
    "        if name:\n",
    "            print(\"File Created Successfully !!!\")\n",
    "        else :\n",
    "            print(\"something went wrong !!\")\n",
    "    def remv_file():\n",
    "        rem=input(\"Enter File Name To remove with ext:\")\n",
    "        os.remove(rem)\n",
    "        print(\"File Removed Successfully \")\n",
    "    def rename_file():\n",
    "        old_file=input(\"Enter Old File Name :\")\n",
    "        nfile=input(\"Enter New File Name\")\n",
    "        os.rename(old_file,nfile)\n",
    "        print(\"Renamed Successfully\")\n",
    "    print(\"Enter Your Choise\")\n",
    "    choise=int(input(\"1 for creation : \\n2 for delete  \\n3 for rename\\n\"))\n",
    "    if choise==1 :\n",
    "        print(\"**** create File ********\")\n",
    "        create_file()\n",
    "    elif choise == 2:\n",
    "        print(\"***** remove File *******\")\n",
    "        remv_file()\n",
    "    elif choise==3 :\n",
    "        print(\"********* rename file ********\")\n",
    "        rename_file()\n",
    "    else :\n",
    "        print(\"Enter valid option\")\n",
    "except Exception as e:\n",
    "    print(e)"
   ]
  },
  {
   "cell_type": "code",
   "execution_count": null,
   "metadata": {},
   "outputs": [],
   "source": []
  },
  {
   "cell_type": "code",
   "execution_count": null,
   "metadata": {},
   "outputs": [],
   "source": []
  },
  {
   "cell_type": "raw",
   "metadata": {},
   "source": []
  },
  {
   "cell_type": "code",
   "execution_count": null,
   "metadata": {},
   "outputs": [],
   "source": []
  },
  {
   "cell_type": "code",
   "execution_count": null,
   "metadata": {},
   "outputs": [],
   "source": []
  },
  {
   "cell_type": "code",
   "execution_count": null,
   "metadata": {},
   "outputs": [],
   "source": []
  },
  {
   "cell_type": "code",
   "execution_count": null,
   "metadata": {},
   "outputs": [],
   "source": []
  }
 ],
 "metadata": {
  "kernelspec": {
   "display_name": "Python 3",
   "language": "python",
   "name": "python3"
  },
  "language_info": {
   "codemirror_mode": {
    "name": "ipython",
    "version": 3
   },
   "file_extension": ".py",
   "mimetype": "text/x-python",
   "name": "python",
   "nbconvert_exporter": "python",
   "pygments_lexer": "ipython3",
   "version": "3.7.6"
  }
 },
 "nbformat": 4,
 "nbformat_minor": 4
}
